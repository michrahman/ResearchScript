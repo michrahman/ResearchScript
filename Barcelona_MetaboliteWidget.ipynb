{
 "cells": [
  {
   "cell_type": "code",
   "execution_count": 3,
   "id": "d81cbd7b",
   "metadata": {},
   "outputs": [
    {
     "data": {
      "application/vnd.jupyter.widget-view+json": {
       "model_id": "1e6ffd4d75d44eeabd489eb262a8b7e6",
       "version_major": 2,
       "version_minor": 0
      },
      "text/plain": [
       "interactive(children=(Dropdown(description='options', options=('Sample Name', 'Sample Type', 'HELPER', 'BATCH'…"
      ]
     },
     "metadata": {},
     "output_type": "display_data"
    }
   ],
   "source": [
    "import pandas as pd\n",
    "import ipywidgets as widgets\n",
    "import seaborn as sns\n",
    "\n",
    "#Data import (merged for you, see attached)\n",
    "area=pd.read_csv(\"Area_KoayExpedite.csv\")\n",
    "order=pd.read_csv(\"RunOrder_KoayExpedite.csv\")\n",
    "df=pd.merge(area,order,how=\"left\",left_on=[\"Sample Name\"],right_on=[\"Sample Number\"])\n",
    "df[\"Run Order\"].apply(str)\n",
    "\n",
    "#Widgets variable\n",
    "tray=df.Tray.unique()\n",
    "#met=[\"Betaine\",\"Choline\",\"Cystamine\",\"Cysteamine\",\"Cytidine\",\"Glycine\",\"Methionine\",\"Phe-d8\",\"Phenylalanaine\",\"Serine\",\"TMAOd9\",\"TMNO\",\"Valine\",\"Valine-d8\"]\n",
    "met=list(df)\n",
    "ro=df[\"Run Order\"]\n",
    "\n",
    "#Widgets creation\n",
    "@widgets.interact(options=met,description=\"Metabolite:\")\n",
    "\n",
    "#Plot creation\n",
    "def plot_widget(options):\n",
    "    sns.scatterplot(x=df[\"Run Order\"],y=df[options],hue=df[\"Sample Type\"])"
   ]
  },
  {
   "cell_type": "code",
   "execution_count": 114,
   "id": "8bd0566e",
   "metadata": {},
   "outputs": [
    {
     "name": "stderr",
     "output_type": "stream",
     "text": [
      "/var/folders/r5/f88qjqdd5qlbhl4lyw188j_80000gn/T/ipykernel_2427/1346814777.py:20: SettingWithCopyWarning: \n",
      "A value is trying to be set on a copy of a slice from a DataFrame.\n",
      "Try using .loc[row_indexer,col_indexer] = value instead\n",
      "\n",
      "See the caveats in the documentation: https://pandas.pydata.org/pandas-docs/stable/user_guide/indexing.html#returning-a-view-versus-a-copy\n",
      "  mydf.loc[:, \"Run Order\"] = mydf.loc[:, \"Run Order\"].astype(int)\n",
      "/var/folders/r5/f88qjqdd5qlbhl4lyw188j_80000gn/T/ipykernel_2427/1346814777.py:20: DeprecationWarning: In a future version, `df.iloc[:, i] = newvals` will attempt to set the values inplace instead of always setting a new array. To retain the old behavior, use either `df[df.columns[i]] = newvals` or, if columns are non-unique, `df.isetitem(i, newvals)`\n",
      "  mydf.loc[:, \"Run Order\"] = mydf.loc[:, \"Run Order\"].astype(int)\n"
     ]
    },
    {
     "data": {
      "application/vnd.jupyter.widget-view+json": {
       "model_id": "d51509a5d0ae43d9b86c272526d27cb5",
       "version_major": 2,
       "version_minor": 0
      },
      "text/plain": [
       "interactive(children=(Dropdown(description='options', options=(1, 2, 3, 4, 5, 6, 7, 8, 9, 10, 11, 12, 13, 14, …"
      ]
     },
     "metadata": {},
     "output_type": "display_data"
    },
    {
     "data": {
      "application/vnd.jupyter.widget-view+json": {
       "model_id": "d51509a5d0ae43d9b86c272526d27cb5",
       "version_major": 2,
       "version_minor": 0
      },
      "text/plain": [
       "interactive(children=(Dropdown(description='options', options=(1, 2, 3, 4, 5, 6, 7, 8, 9, 10, 11, 12, 13, 14, …"
      ]
     },
     "metadata": {},
     "output_type": "display_data"
    },
    {
     "data": {
      "application/vnd.jupyter.widget-view+json": {
       "model_id": "1b195b95178e4b52977b43750ffff54d",
       "version_major": 2,
       "version_minor": 0
      },
      "text/plain": [
       "interactive(children=(Dropdown(description='options', options=('Betaine', 'Choline', 'Cystamine', 'Cysteamine'…"
      ]
     },
     "metadata": {},
     "output_type": "display_data"
    },
    {
     "ename": "NameError",
     "evalue": "name 'meta' is not defined",
     "output_type": "error",
     "traceback": [
      "\u001b[0;31m---------------------------------------------------------------------------\u001b[0m",
      "\u001b[0;31mNameError\u001b[0m                                 Traceback (most recent call last)",
      "Cell \u001b[0;32mIn[114], line 64\u001b[0m\n\u001b[1;32m     59\u001b[0m w2\u001b[38;5;241m=\u001b[39mwidgets\u001b[38;5;241m.\u001b[39minteract(plot_widget,options\u001b[38;5;241m=\u001b[39mmet)\n\u001b[1;32m     61\u001b[0m \u001b[38;5;66;03m#tray_df=df[df[\"Tray Number\"]==w1]\u001b[39;00m\n\u001b[1;32m     62\u001b[0m \u001b[38;5;66;03m#tray_ro=tray_df[tray_df[\"Run Order\"]]\u001b[39;00m\n\u001b[0;32m---> 64\u001b[0m meta_df\u001b[38;5;241m=\u001b[39mmydf_final[meta]\n\u001b[1;32m     66\u001b[0m \u001b[38;5;66;03m#Plot creation\u001b[39;00m\n\u001b[1;32m     67\u001b[0m \u001b[38;5;28;01mdef\u001b[39;00m \u001b[38;5;21mplot_widget\u001b[39m(tray_ro,meta_df):\n",
      "\u001b[0;31mNameError\u001b[0m: name 'meta' is not defined"
     ]
    }
   ],
   "source": [
    "#Metabolite plot (testing,failed) \n",
    "import pandas as pd\n",
    "import ipywidgets as widgets\n",
    "import seaborn as sns\n",
    "from ipywidgets import interact,interactive,fixed,interact_manual\n",
    "import numpy as np\n",
    "\n",
    "#Data import\n",
    "area=pd.read_csv(\"Area_KoayExpedite.csv\")\n",
    "order=pd.read_csv(\"RunOrder_KoayExpedite.csv\")\n",
    "df=pd.merge(area,order,how=\"left\",left_on=[\"Sample Name\"],right_on=[\"Sample Number\"])\n",
    "\n",
    "#manual subselection\n",
    "w1=3\n",
    "w2=\"Betaine\"\n",
    "\n",
    "mydf = df[df[\"Tray\"]==w1]\n",
    "\n",
    "#mydf[\"Run Order\"]=mydf[\"Run Order\"].apply(str)\n",
    "mydf.loc[:, \"Run Order\"] = mydf.loc[:, \"Run Order\"].astype(int)\n",
    "\n",
    "#this work - final dataset\n",
    "mydf_final = mydf[[\"Betaine\",\"Choline\",\"Cystamine\",\"Cysteamine\",\"Cytidine\",\n",
    "                    \"Glycine\",\"Methionine\",\"Phe-d8\",\"Phenylalanine\",\"Serine\",\"TMAOd9\",\"TMNO\",\n",
    "                    \"Valine\",\"Valine-d8\", \"Tray\", \"Run Order\", \"Sample Type\"]]\n",
    "\n",
    "#sns.scatterplot(x=mydf_final[\"Run Order\"],y=mydf_final[w2],hue=df[\"Sample Type\"])\n",
    "#=mydf[\"Run Order\"].astype(int)\n",
    "#print(mydf[\"Run Order\"])\n",
    "\n",
    "\n",
    "#Widgets variable\n",
    "#mytray=np.unique(mydf[\"Run Order\"])\n",
    "#print(mytray)\n",
    "#mymetabolite=mydf[5:20].keys()\n",
    "#mydf.shape[0]\n",
    "#mymetabolite=mydf.iloc[0:len,5:20]\n",
    "#print(mymetabolite)\n",
    "\n",
    "#tray=df.Tray.unique()\n",
    "met=[\"Betaine\",\"Choline\",\"Cystamine\",\"Cysteamine\",\"Cytidine\",\"Glycine\",\"Methionine\",\"Phe-d8\",\"Phenylalanine\",\"Serine\",\"TMAOd9\",\"TMNO\",\"Valine\",\"Valine-d8\"]\n",
    "#tray=[1,2,3,\"4\",\"5\",\"6\",\"7\",\"8\",\"9\",\"10\",\"11\",\"12\",\"13\",\"14\",\"15\",\"16\",\"17\",\"18\",\"19\"]\n",
    "tray = range(1,20)\n",
    "#met=list(df)\n",
    "#ro=df[\"Run Order\"]\n",
    "\n",
    "\n",
    "\n",
    "#tray_df=df[df[\"Tray Number\"]==w1]\n",
    "#tray_ro=tray_df[tray_df[\"Run Order\"]]\n",
    "\n",
    "\n",
    "\n",
    "\n",
    "\n",
    "#sns.scatterplot(x=tray_df[w1],y=tray_df[w2],hue=df[\"Sample Type\"])\n",
    "\n",
    "w1=widgets.interact(plot_widget,options=tray)\n",
    "w2=widgets.interact(plot_widget,options=met)\n",
    "\n",
    "#tray_df=df[df[\"Tray Number\"]==w1]\n",
    "#tray_ro=tray_df[tray_df[\"Run Order\"]]\n",
    "\n",
    "meta_df=mydf_final[meta]\n",
    "\n",
    "#Plot creation\n",
    "def plot_widget(tray_ro,meta_df):\n",
    "    sns.scatterplot(x=mydf_final[\"Run Order\"],y=tray_df[w2],hue=df[\"Sample Type\"])\n",
    "    \n",
    "#display(plot_widget,w1,w2)\n"
   ]
  },
  {
   "cell_type": "code",
   "execution_count": 5,
   "id": "c983b885",
   "metadata": {},
   "outputs": [
    {
     "data": {
      "application/vnd.jupyter.widget-view+json": {
       "model_id": "7eabba883b7e454b9c396f6f4189928a",
       "version_major": 2,
       "version_minor": 0
      },
      "text/plain": [
       "Dropdown(description='Tray', options=(1, 2, 3, 4, 5, 6, 7, 8, 9, 10, 11, 12, 13, 14, 15, 16, 17, 18, 19), valu…"
      ]
     },
     "metadata": {},
     "output_type": "display_data"
    },
    {
     "data": {
      "application/vnd.jupyter.widget-view+json": {
       "model_id": "3b5c8d2a01c34877a3be5470f8d1b2e7",
       "version_major": 2,
       "version_minor": 0
      },
      "text/plain": [
       "Dropdown(description='Metabolite', options=('Betaine', 'Choline', 'Cystamine', 'Cysteamine', 'Cytidine', 'Glyc…"
      ]
     },
     "metadata": {},
     "output_type": "display_data"
    },
    {
     "data": {
      "application/vnd.jupyter.widget-view+json": {
       "model_id": "b448ff4e03cf4c21964082875d341248",
       "version_major": 2,
       "version_minor": 0
      },
      "text/plain": [
       "Output()"
      ]
     },
     "metadata": {},
     "output_type": "display_data"
    }
   ],
   "source": [
    "#WORKING!\n",
    "\n",
    "import matplotlib.pyplot as plt\n",
    "import pandas as pd\n",
    "import seaborn as sns\n",
    "import ipywidgets as widgets\n",
    "from IPython.display import display, clear_output\n",
    "\n",
    "%matplotlib inline\n",
    "\n",
    "#Data import (merged for you, see attached)\n",
    "area=pd.read_csv(\"Area_KoayExpedite.csv\")\n",
    "order=pd.read_csv(\"RunOrder_KoayExpedite.csv\")\n",
    "df=pd.merge(area,order,how=\"left\",left_on=[\"Sample Name\"],right_on=[\"Sample Number\"])\n",
    "df[\"Run Order\"].apply(str)\n",
    "\n",
    "#Widget setup\n",
    "met = [\"Betaine\", \"Choline\", \"Cystamine\", \"Cysteamine\", \"Cytidine\", \"Glycine\", \"Methionine\", \"Phe-d8\", \"Phenylalanine\", \"Serine\", \"TMAOd9\", \"TMNO\", \"Valine\", \"Valine-d8\"]\n",
    "tray_select = widgets.Dropdown(options=range(1, 20), value=1, description=\"Tray\")\n",
    "met_select = widgets.Dropdown(options=met, value=\"Betaine\", description=\"Metabolite\")\n",
    "\n",
    "# Create an output widget to display the scatter plot\n",
    "output = widgets.Output()\n",
    "\n",
    "def scatterplot(change):\n",
    "    with output:\n",
    "        clear_output(wait=True) #senura pieris\n",
    "        \n",
    "        plt.figure(figsize=(10, 6))\n",
    "        tray_dffilter = df[df[\"Tray\"] == tray_select.value]\n",
    "        sns.scatterplot(data=tray_dffilter, x=\"Run Order\", y=met_select.value, hue=\"Sample Type\")\n",
    "        plt.xlabel(\"Run Order\")\n",
    "        plt.ylabel(met_select.value)\n",
    "        plt.title(f\"Scatter Plot of {met_select.value} for Tray {tray_select.value}\")\n",
    "        plt.legend(title=\"Sample Type\")\n",
    "        plt.show()\n",
    "\n",
    "# Attach the scatterplot function to the change events of the dropdowns\n",
    "tray_select.observe(scatterplot, names='value')\n",
    "met_select.observe(scatterplot, names='value')\n",
    "\n",
    "# Display the widgets and the output\n",
    "display(tray_select, met_select)\n",
    "display(output)\n",
    "\n",
    "scatterplot(None)"
   ]
  },
  {
   "cell_type": "code",
   "execution_count": 8,
   "id": "fc7df0f4",
   "metadata": {},
   "outputs": [
    {
     "data": {
      "application/vnd.jupyter.widget-view+json": {
       "model_id": "ff5c86c6a43b486c9c19f981effe0829",
       "version_major": 2,
       "version_minor": 0
      },
      "text/plain": [
       "Dropdown(description='Tray', options=(1, 2, 3, 4, 5, 6, 7, 8, 9, 10, 11, 12, 13, 14, 15, 16, 17, 18, 19), valu…"
      ]
     },
     "metadata": {},
     "output_type": "display_data"
    },
    {
     "data": {
      "application/vnd.jupyter.widget-view+json": {
       "model_id": "7945f9f8b1144437be03d1f75a2b0aea",
       "version_major": 2,
       "version_minor": 0
      },
      "text/plain": [
       "Dropdown(description='Metabolite', options=('Betaine', 'Choline', 'Cystamine', 'Cysteamine', 'Cytidine', 'Glyc…"
      ]
     },
     "metadata": {},
     "output_type": "display_data"
    },
    {
     "data": {
      "application/vnd.jupyter.widget-view+json": {
       "model_id": "3bbe0546fcc34e77a511f76ee87d619a",
       "version_major": 2,
       "version_minor": 0
      },
      "text/plain": [
       "Output()"
      ]
     },
     "metadata": {},
     "output_type": "display_data"
    }
   ],
   "source": [
    "import matplotlib.pyplot as plt\n",
    "import pandas as pd\n",
    "import seaborn as sns\n",
    "import ipywidgets as widgets\n",
    "from IPython.display import display, clear_output\n",
    "\n",
    "%matplotlib inline\n",
    "\n",
    "met = [\"Betaine\", \"Choline\", \"Cystamine\", \"Cysteamine\", \"Cytidine\", \"Glycine\", \"Methionine\", \"Phe-d8\", \"Phenylalanine\", \"Serine\", \"TMAOd9\", \"TMNO\", \"Valine\", \"Valine-d8\"]\n",
    "tray_select = widgets.Dropdown(options=range(1, 20), value=1, description=\"Tray\")\n",
    "met_select = widgets.Dropdown(options=met, value=\"Betaine\", description=\"Metabolite\")\n",
    "\n",
    "# Create an output widget to display the scatter plot\n",
    "output = widgets.Output()\n",
    "\n",
    "def scatterplot(change):\n",
    "    with output:\n",
    "        clear_output(wait=True)  # Clear the output widget's content\n",
    "        \n",
    "        plt.figure(figsize=(10, 6))\n",
    "        tray_dffilter = df[df[\"Tray\"] == tray_select.value]\n",
    "        met_data = tray_dffilter[met_select.value]\n",
    "        \n",
    "        # Calculate the lower and upper bounds for y-axis based on a percentage of the mean\n",
    "        mean = met_data.mean()\n",
    "        lower_percentage = 0.05 if met_select.value != \"Phe-d8\" else 0.1  # Adjust as needed\n",
    "        upper_percentage = 0.95 if met_select.value != \"Phe-d8\" else 0.9  # Adjust as needed\n",
    "        \n",
    "        lower_bound = mean * lower_percentage\n",
    "        upper_bound = mean * upper_percentage\n",
    "        \n",
    "        sns.scatterplot(data=tray_dffilter, x=\"Run Order\", y=met_select.value, hue=\"Sample Type\")\n",
    "        plt.xlabel(\"Run Order\")\n",
    "        plt.ylabel(met_select.value)\n",
    "        plt.title(f\"Scatter Plot of {met_select.value} for Tray {tray_select.value}\")\n",
    "        plt.legend(title=\"Sample Type\")\n",
    "        \n",
    "        # Set y-axis limits based on the calculated bounds\n",
    "        plt.ylim(lower_bound, upper_bound)\n",
    "        \n",
    "        plt.show()\n",
    "\n",
    "# Attach the scatterplot function to the change events of the dropdowns\n",
    "tray_select.observe(scatterplot, names='value')\n",
    "met_select.observe(scatterplot, names='value')\n",
    "\n",
    "# Display the widgets and the output\n",
    "display(tray_select, met_select)\n",
    "display(output)\n",
    "\n",
    "# Initial plot\n",
    "scatterplot(None)\n"
   ]
  },
  {
   "cell_type": "code",
   "execution_count": 21,
   "id": "bb86dc62",
   "metadata": {},
   "outputs": [
    {
     "data": {
      "application/vnd.jupyter.widget-view+json": {
       "model_id": "d1f68d00f4ee42fea809b01ecfb998ce",
       "version_major": 2,
       "version_minor": 0
      },
      "text/plain": [
       "Dropdown(description='Tray', options=(1, 2, 3, 4, 5, 6, 7, 8, 9, 10, 11, 12, 13, 14, 15, 16, 17, 18, 19), valu…"
      ]
     },
     "metadata": {},
     "output_type": "display_data"
    },
    {
     "data": {
      "application/vnd.jupyter.widget-view+json": {
       "model_id": "1abe7745d93e4657baf387065a0799d7",
       "version_major": 2,
       "version_minor": 0
      },
      "text/plain": [
       "Dropdown(description='Metabolite', options=('Betaine', 'Choline', 'Cystamine', 'Cysteamine', 'Cytidine', 'Glyc…"
      ]
     },
     "metadata": {},
     "output_type": "display_data"
    },
    {
     "data": {
      "application/vnd.jupyter.widget-view+json": {
       "model_id": "51d666b1439d48b3b94b9c006dc48066",
       "version_major": 2,
       "version_minor": 0
      },
      "text/plain": [
       "Output()"
      ]
     },
     "metadata": {},
     "output_type": "display_data"
    }
   ],
   "source": [
    "import matplotlib.pyplot as plt\n",
    "import pandas as pd\n",
    "import seaborn as sns\n",
    "import ipywidgets as widgets\n",
    "from IPython.display import display, clear_output\n",
    "from scipy.stats import variation\n",
    "import numpy as np\n",
    "\n",
    "%matplotlib inline\n",
    "\n",
    "# Data import (merged for you, see attached)\n",
    "## merged to Merge_KoayExpedite.csv\n",
    "# area = pd.read_csv(\"Area_KoayExpedite.csv\")\n",
    "# order = pd.read_csv(\"RunOrder_KoayExpedite.csv\")\n",
    "# df = pd.merge(area, order, how=\"left\", left_on=[\"Sample Name\"], right_on=[\"Sample Number\"])\n",
    "df = pd.read_csv(\"Merge_KoayExpedite.csv\")\n",
    "df[\"Run Order\"].apply(str)\n",
    "\n",
    "# Widget setup\n",
    "met = [\"Betaine\", \"Choline\", \"Cystamine\", \"Cysteamine\", \"Cytidine\", \"Glycine\", \"Methionine\", \"Phe-d8\", \"Phenylalanine\", \"Serine\", \"TMAOd9\", \"TMNO\", \"Valine\", \"Valine-d8\"]\n",
    "tray_select = widgets.Dropdown(options=range(1, 20), value=1, description=\"Tray\")\n",
    "met_select = widgets.Dropdown(options=met, value=\"Betaine\", description=\"Metabolite\")\n",
    "\n",
    "# Create an output widget to display the scatter plot\n",
    "output = widgets.Output()\n",
    "\n",
    "def scatterplot(change):\n",
    "    with output:\n",
    "        clear_output(wait=True)\n",
    "        \n",
    "        plt.figure(figsize=(10, 6))\n",
    "        tray_dffilter = df[df[\"Tray\"] == tray_select.value]\n",
    "        \n",
    "        # Filter the data based on the selected metabolite\n",
    "        met_col = met_select.value\n",
    "        tray_met_data = tray_dffilter[met_col]\n",
    "        \n",
    "        # Calculate the 5th and 95th percentiles\n",
    "        percentile_5 = tray_met_data.quantile(0.05)\n",
    "        percentile_95 = tray_met_data.quantile(0.95)\n",
    "        \n",
    "        # Calculate the coefficient of variation\n",
    "        cv = variation(tray_met_data) * 100\n",
    "        \n",
    "        # Apply the percentile filter\n",
    "        tray_dffilter_percentile = tray_dffilter[\n",
    "            (tray_dffilter[met_col] >= percentile_5) & \n",
    "            (tray_dffilter[met_col] <= percentile_95)\n",
    "        ]\n",
    "        \n",
    "        sns.scatterplot(data=tray_dffilter_percentile, x=\"Run Order\", y=met_col, hue=\"Sample Type\")\n",
    "        plt.xlabel(\"Run Order\")\n",
    "        plt.ylabel(met_col)\n",
    "        plt.title(f\"Scatter Plot of {met_col} for Tray {tray_select.value}\")\n",
    "        plt.legend(title=\"Sample Type\")\n",
    "        plt.show()\n",
    "        print(f\"Coefficient of variant is {cv} %\")\n",
    "\n",
    "# Attach the scatterplot function to the change events of the dropdowns\n",
    "tray_select.observe(scatterplot, names='value')\n",
    "met_select.observe(scatterplot, names='value')\n",
    "\n",
    "# Display the widgets and the output\n",
    "display(tray_select, met_select)\n",
    "display(output)\n",
    "\n",
    "scatterplot(None)\n"
   ]
  },
  {
   "cell_type": "code",
   "execution_count": null,
   "id": "d25759c7",
   "metadata": {},
   "outputs": [],
   "source": []
  }
 ],
 "metadata": {
  "kernelspec": {
   "display_name": "Python 3 (ipykernel)",
   "language": "python",
   "name": "python3"
  },
  "language_info": {
   "codemirror_mode": {
    "name": "ipython",
    "version": 3
   },
   "file_extension": ".py",
   "mimetype": "text/x-python",
   "name": "python",
   "nbconvert_exporter": "python",
   "pygments_lexer": "ipython3",
   "version": "3.11.3"
  }
 },
 "nbformat": 4,
 "nbformat_minor": 5
}
